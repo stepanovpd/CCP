{
 "cells": [
  {
   "cell_type": "markdown",
   "metadata": {},
   "source": [
    "# 1. Fixed-point iteration"
   ]
  },
  {
   "cell_type": "markdown",
   "metadata": {},
   "source": [
    "Rewrite $f(x) = 0$ as $x = \\phi(x)$ so that\n",
    "$$f(x_*) = 0 \\Leftrightarrow x_* = \\phi(x_*),$$\n",
    "where $x_*$ is the root of the first equation.\n",
    "\n",
    "The simplest way of costructing $\\phi(x)$ is\n",
    "$$\\phi(x) = x - \\alpha f(x).$$"
   ]
  },
  {
   "cell_type": "markdown",
   "metadata": {},
   "source": [
    "The iterative process\n",
    "$$x_{n+1} = \\phi(x_{n})$$\n",
    "converges to the root $x_*$ if $\\lim\\limits_{n \\rightarrow} x_n = x_*$."
   ]
  },
  {
   "cell_type": "markdown",
   "metadata": {},
   "source": [
    "Consider the following equation:\n",
    "\n",
    "$$\n",
    "\\sqrt{x} = \\cos{x}\n",
    "$$\n",
    "\n",
    "Plot the left-hand side and right-hand side of this equation, and localize the root graphically. Estimate the location of the root by visual inspection of the plot.\n",
    "\n",
    "Write a function which finds the solution using fixed-point iteration up to a predefined accuracy $\\epsilon$ in the form\n",
    "\n",
    "$$\n",
    "\\phi(x) = x - \\alpha f(x),\n",
    "$$\n",
    "\n",
    "where $\\alpha$ is the free parameter. Check the dependence of the number of iterations required for a given $\\epsilon$ on $\\alpha$ (visualize this dependence for three different values of $epsilon$). Compare your results to an expectation that the optimal value of $\\alpha$ is given by \n",
    "\n",
    "$$\n",
    "\\alpha = \\frac{2}{m + M}\n",
    "$$\n",
    "\n",
    "where $0 < m < |f'(x)| < M$ over the localization interval (highlight it on the plot)."
   ]
  },
  {
   "cell_type": "code",
   "execution_count": 46,
   "metadata": {},
   "outputs": [
    {
     "data": {
      "image/png": "[encoded data removed]",
      "text/plain": [
       "<Figure size 432x288 with 1 Axes>"
      ]
     },
     "metadata": {
      "needs_background": "light"
     },
     "output_type": "display_data"
    }
   ],
   "source": [
    "from pylab import plot,show\n",
    "from numpy import array,linspace,sqrt,cos\n",
    "from numpy.linalg import norm\n",
    "\n",
    "def fixedp(f,x0,tol=10e-4,maxiter=200):\n",
    " \"\"\" Fixed point algorithm \"\"\"\n",
    " e = 1\n",
    " itr = 0\n",
    " xp = []\n",
    " while(e > tol and itr < maxiter):\n",
    "  x = f(x0)      # fixed point equation\n",
    "  e = norm(x0-x) # error at the current step\n",
    "  x0 = x\n",
    "  xp.append(x0)  # save the solution of the current step\n",
    "  itr = itr + 1\n",
    " return x,xp\n",
    "\n",
    "\n",
    "f = lambda x : (cos(x))**2\n",
    "\n",
    "x_start = 1\n",
    "xf,xp = fixedp(f,x_start)\n",
    "\n",
    "x = linspace(0,2,100)\n",
    "y = f(x)\n",
    "plot(x,y,xp,f(xp),'bo',\n",
    "     x_start,f(x_start),'ro',xf,f(xf),'go',x,x,'k')\n",
    "show()"
   ]
  },
  {
   "cell_type": "markdown",
   "metadata": {},
   "source": [
    "Find the solution (and number of iterations) of the equation above using fixed-point iteration for $\\alpha = 1$ and $\\epsilon = 0.001$ (for Google form)."
   ]
  },
  {
   "cell_type": "code",
   "execution_count": 47,
   "metadata": {},
   "outputs": [
    {
     "name": "stdout",
     "output_type": "stream",
     "text": [
      "0.6412273438135871 143\n"
     ]
    }
   ],
   "source": [
    "print(xf, len(xp))"
   ]
  },
  {
   "cell_type": "markdown",
   "metadata": {},
   "source": [
    "# 2. Inverse quadratic interpolation"
   ]
  },
  {
   "cell_type": "markdown",
   "metadata": {},
   "source": [
    "Suppose we have three different consequitive iterates $x_0$, $x_1$ and $x_2$ and a function $f(x)$: $y_i = f(x_i)$.\n",
    "\n",
    "Construct a unique parabola which passes through $(x_i, y_i)$. Take as a next approximation, $x_3$, the root of this parabola.\n",
    "\n",
    "In order not to solve another nonlinear equation on each step, use an inverse interpolation: construct a second order polynomial $Q(y)$ such that $Q(y_i) = x_i$. Then $x_3 = Q(0)$."
   ]
  },
  {
   "cell_type": "markdown",
   "metadata": {},
   "source": [
    "Now, write a function which finds the solution using inverse quadratic interpolation up to a predefined accuracy $\\epsilon$."
   ]
  },
  {
   "cell_type": "code",
   "execution_count": 1,
   "metadata": {},
   "outputs": [],
   "source": [
    "def inv_quad_interpolation(func, point_0, point_1, point_3, eps):\n",
    "# ... ENTER YOUR CODE HERE ..."
   ]
  },
  {
   "cell_type": "markdown",
   "metadata": {},
   "source": [
    "Now implement your function to solve equation\n",
    "$$x = \\mbox{ctg}(x)$$\n",
    "in the interval $x \\in (0.5, 1)$ with $x_0 = 0.6$, $x_1 = 0.8$ and $x_2 = 1$. What is the solution for $\\epsilon = 0.001$? How many iterations did it take to find it? (You will need the answers for Google Form)."
   ]
  },
  {
   "cell_type": "markdown",
   "metadata": {},
   "source": [
    "# 3. Newton-Raphson method"
   ]
  },
  {
   "cell_type": "markdown",
   "metadata": {},
   "source": [
    "Implement the Newton-Raphson method to solve equation $z^3 - 1 = 0$ for complex $z$. Visualize and describe the convergence domain."
   ]
  },
  {
   "cell_type": "code",
   "execution_count": 1,
   "metadata": {},
   "outputs": [
    {
     "name": "stdout",
     "output_type": "stream",
     "text": [
      "Quelle est la valeur de départ ? : 1+j\n",
      "(0.9999999999999994-4.556244651765188e-16j)\n",
      "8\n"
     ]
    },
    {
     "data": {
      "text/plain": [
       "<Figure size 640x480 with 1 Axes>"
      ]
     },
     "metadata": {},
     "output_type": "display_data"
    }
   ],
   "source": [
    "from scipy import misc\n",
    "import numpy as np\n",
    "import matplotlib.pyplot as plt\n",
    "import cmath as cm\n",
    "\n",
    "def ma_fonction(x):\n",
    "    y = (x ** 3) - 1\n",
    "    return (y)\n",
    "\n",
    "def ma_derivee(x):\n",
    "    y = 3 * (x ** 2) \n",
    "    return (y)\n",
    "\n",
    "def NewtonsMethod( x, epsilon=0.000001):\n",
    "    n   = 0\n",
    "    dif = 2 * epsilon \n",
    "    while dif > epsilon :\n",
    "        x1   = x - ma_fonction(x) / ma_derivee(x)\n",
    "        dif  = abs(x1 - x)\n",
    "        x    = x1\n",
    "        n    = n+1\n",
    "    return (x, n)\n",
    "\n",
    "\n",
    "x     = complex(input())\n",
    "\n",
    "\n",
    "(x,n) = NewtonsMethod(x)\n",
    "\n",
    "print(x) \n",
    "print(n)\n",
    "\n",
    "tab_x = np.linspace(-6,6,100)\n",
    "tab_y = ma_fonction(tab_x)\n",
    "\n",
    "plt.figure()\n",
    "plt.plot(tab_x,tab_y, color='red')\n",
    "plt.grid()\n",
    "plt.show()"
   ]
  },
  {
   "cell_type": "markdown",
   "metadata": {},
   "source": [
    "Hint: visualize the convergence domain as a scatter plot of coloured points (the colour of the point depends on the root it converged to)."
   ]
  },
  {
   "cell_type": "code",
   "execution_count": null,
   "metadata": {},
   "outputs": [],
   "source": []
  }
 ],
 "metadata": {
  "kernelspec": {
   "display_name": "Python 3",
   "language": "python",
   "name": "python3"
  },
  "language_info": {
   "codemirror_mode": {
    "name": "ipython",
    "version": 3
   },
   "file_extension": ".py",
   "mimetype": "text/x-python",
   "name": "python",
   "nbconvert_exporter": "python",
   "pygments_lexer": "ipython3",
   "version": "3.7.3"
  }
 },
 "nbformat": 4,
 "nbformat_minor": 2
}
