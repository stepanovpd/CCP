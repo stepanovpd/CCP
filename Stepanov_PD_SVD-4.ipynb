{
 "cells": [
  {
   "cell_type": "markdown",
   "metadata": {},
   "source": [
    "# Реализовать разложение по сингулярным значениям (SVD) для ленточных матриц.\n",
    "## создание произвольной ленточной матрицы.\n",
    "На вход подаётся массив $n \\times m$ - в таком виде хранятся ленточные матрицы.\n",
    "$n$ - размер матрицы, $m$ - ширина ленты, нечётное число.\n",
    "<img src='Matrix_storage-2.png'></img>"
   ]
  },
  {
   "cell_type": "code",
   "execution_count": 1,
   "metadata": {},
   "outputs": [],
   "source": [
    "import numpy as np"
   ]
  },
  {
   "cell_type": "code",
   "execution_count": 2,
   "metadata": {},
   "outputs": [
    {
     "name": "stdout",
     "output_type": "stream",
     "text": [
      "[[0.         0.         0.41146889 0.11653018 0.44631611]\n",
      " [0.         0.62776341 0.79809809 0.88558927 0.07640795]\n",
      " [0.51069872 0.41430726 0.92344932 0.06246516 0.5314376 ]\n",
      " [0.03904595 0.65727217 0.51163805 0.28351214 0.        ]\n",
      " [0.51058574 0.10611292 0.68285181 0.         0.        ]]\n"
     ]
    }
   ],
   "source": [
    "def random_band(n, m, seed=1234):\n",
    "    '''\n",
    "    создаёт случайную ленту, на основе которой будет создана ленточная матрица\n",
    "    n - длина ленты\n",
    "    m - ширина ленты\n",
    "    '''\n",
    "    band = np.zeros((n, m))\n",
    "    l = (m - 1) // 2 #полуширина ленты\n",
    "    for j in range(l, -1, -1):\n",
    "        band[j:, l - j] = np.random.rand(n - j)\n",
    "    for j in range(1, l + 1):\n",
    "        band[:n - j, l + j] = np.random.rand(n - j)\n",
    "    return band\n",
    "\n",
    "\n",
    "A = random_band(5, 5)\n",
    "print(A)"
   ]
  },
  {
   "cell_type": "code",
   "execution_count": 3,
   "metadata": {},
   "outputs": [],
   "source": [
    "def band_matrix(band):\n",
    "    '''\n",
    "    создаёт ленточную матрицу из ленты band\n",
    "    крайние элементы столбцов ленты должны содержать нули согласно рисунку выше\n",
    "    '''\n",
    "    n, m = band.shape\n",
    "    l = (m - 1) // 2\n",
    "    matrix = np.zeros((n, n))\n",
    "    \n",
    "    i = 0\n",
    "    for j in range(l, -1, -1):\n",
    "        matrix[i, :i + l + 1] = band[i, j:]\n",
    "        i += 1\n",
    "    start = i\n",
    "    i = n - 1\n",
    "    for j in range(l, 0, -1):\n",
    "        matrix[i, i - l:] = band[i, : -j]\n",
    "        i -= 1\n",
    "    stop = i\n",
    "    for i in range(start, stop + 1):\n",
    "        matrix[i, i - l : i + l + 1] = band[i]\n",
    "    return matrix"
   ]
  },
  {
   "cell_type": "code",
   "execution_count": 4,
   "metadata": {},
   "outputs": [
    {
     "name": "stdout",
     "output_type": "stream",
     "text": [
      "[[0.41146889 0.11653018 0.44631611 0.         0.        ]\n",
      " [0.62776341 0.79809809 0.88558927 0.07640795 0.        ]\n",
      " [0.51069872 0.41430726 0.92344932 0.06246516 0.5314376 ]\n",
      " [0.         0.03904595 0.65727217 0.51163805 0.28351214]\n",
      " [0.         0.         0.51058574 0.10611292 0.68285181]]\n"
     ]
    }
   ],
   "source": [
    "A = band_matrix(A)\n",
    "print(A)"
   ]
  },
  {
   "cell_type": "markdown",
   "metadata": {},
   "source": [
    "<img src='one_way-2.png'></img>"
   ]
  },
  {
   "cell_type": "code",
   "execution_count": 5,
   "metadata": {},
   "outputs": [
    {
     "name": "stdout",
     "output_type": "stream",
     "text": [
      "[[0.82420674 0.76055152 1.21119013 0.07986699 0.27140451]\n",
      " [0.76055152 0.82371494 1.16705198 0.1068382  0.23124846]\n",
      " [1.21119013 1.16705198 2.52892957 0.51581466 1.02575473]\n",
      " [0.07986699 0.1068382  0.51581466 0.28277352 0.25071133]\n",
      " [0.27140451 0.23124846 1.02575473 0.25071133 0.82909166]]\n"
     ]
    }
   ],
   "source": [
    "A2 = A.T @ A\n",
    "print(A2)"
   ]
  },
  {
   "cell_type": "code",
   "execution_count": 6,
   "metadata": {},
   "outputs": [
    {
     "data": {
      "text/plain": [
       "True"
      ]
     },
     "execution_count": 6,
     "metadata": {},
     "output_type": "execute_result"
    }
   ],
   "source": [
    "#спектральное разложение w - собственные значения, v - собственные вектора\n",
    "w, v = np.linalg.eig(A2)\n",
    "n = A2.shape[0]\n",
    "#заполнения лямда собственными значениями\n",
    "L = np.zeros((n, n))\n",
    "for i in range(n):\n",
    "    L[i, i] = w[i]\n",
    "#проверка правильности разложения\n",
    "np.allclose(A2, v @ L @ np.linalg.inv(v))"
   ]
  },
  {
   "cell_type": "code",
   "execution_count": 7,
   "metadata": {},
   "outputs": [],
   "source": [
    "# находим сумму\n",
    "Sigma = np.sqrt(L)"
   ]
  },
  {
   "cell_type": "code",
   "execution_count": 8,
   "metadata": {},
   "outputs": [],
   "source": [
    "#находим матрицу u\n",
    "u = A @ v @ np.linalg.inv(Sigma)"
   ]
  },
  {
   "cell_type": "code",
   "execution_count": 9,
   "metadata": {},
   "outputs": [
    {
     "data": {
      "text/plain": [
       "True"
      ]
     },
     "execution_count": 9,
     "metadata": {},
     "output_type": "execute_result"
    }
   ],
   "source": [
    "#проверка правильности\n",
    "np.allclose(A, u @ Sigma @ np.linalg.inv(v))"
   ]
  },
  {
   "cell_type": "code",
   "execution_count": 10,
   "metadata": {},
   "outputs": [],
   "source": [
    "#нахождение u и суммы встроенным методом\n",
    "u_qr, Sigma_qr = np.linalg.qr(A @ v)"
   ]
  },
  {
   "cell_type": "code",
   "execution_count": 11,
   "metadata": {},
   "outputs": [
    {
     "data": {
      "text/plain": [
       "True"
      ]
     },
     "execution_count": 11,
     "metadata": {},
     "output_type": "execute_result"
    }
   ],
   "source": [
    "#проверка правильности\n",
    "np.allclose(A, u_qr @ Sigma_qr @ np.linalg.inv(v))"
   ]
  },
  {
   "cell_type": "code",
   "execution_count": 12,
   "metadata": {},
   "outputs": [
    {
     "data": {
      "text/plain": [
       "True"
      ]
     },
     "execution_count": 12,
     "metadata": {},
     "output_type": "execute_result"
    }
   ],
   "source": [
    "#проверка правильности\n",
    "np.allclose(A, u_qr @ Sigma_qr @ v.T)"
   ]
  },
  {
   "cell_type": "code",
   "execution_count": null,
   "metadata": {},
   "outputs": [],
   "source": []
  }
 ],
 "metadata": {
  "kernelspec": {
   "display_name": "Python 3",
   "language": "python",
   "name": "python3"
  },
  "language_info": {
   "codemirror_mode": {
    "name": "ipython",
    "version": 3
   },
   "file_extension": ".py",
   "mimetype": "text/x-python",
   "name": "python",
   "nbconvert_exporter": "python",
   "pygments_lexer": "ipython3",
   "version": "3.7.4"
  }
 },
 "nbformat": 4,
 "nbformat_minor": 2
}
