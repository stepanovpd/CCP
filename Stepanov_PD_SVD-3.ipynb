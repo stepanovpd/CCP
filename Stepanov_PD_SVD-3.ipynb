{
 "cells": [
  {
   "attachments": {},
   "cell_type": "markdown",
   "metadata": {},
   "source": [
    "# Реализовать разложение по сингулярным значениям (SVD) для ленточных матриц.\n",
    "## создание произвольной ленточной матрицы.\n",
    "На вход подаётся массив $n \\times m$ - в таком виде хранятся ленточные матрицы.\n",
    "$n$ - размер матрицы, $m$ - ширина ленты, нечётное число.\n",
    "<img src='Matrix_storage-2.png'></img>"
   ]
  },
  {
   "cell_type": "code",
   "execution_count": 1,
   "metadata": {},
   "outputs": [],
   "source": [
    "import numpy as np"
   ]
  },
  {
   "cell_type": "code",
   "execution_count": 2,
   "metadata": {},
   "outputs": [
    {
     "name": "stdout",
     "output_type": "stream",
     "text": [
      "[[0.         0.         0.68831554 0.46178128 0.30900665]\n",
      " [0.         0.28469414 0.05586811 0.28444679 0.70867623]\n",
      " [0.40915974 0.55580477 0.84156159 0.08123455 0.80015651]\n",
      " [0.47057799 0.67758015 0.56173123 0.96863533 0.        ]\n",
      " [0.5567152  0.0583857  0.92426124 0.         0.        ]]\n"
     ]
    }
   ],
   "source": [
    "#вместо tape назвать band\n",
    "def random_tape(n, m, seed=1234):\n",
    "    '''\n",
    "    создаёт случайную ленту, на основе которой будет создана ленточная матрица\n",
    "    n - длина ленты\n",
    "    m - ширина ленты\n",
    "    '''\n",
    "    tape = np.zeros((n, m))\n",
    "    l = (m - 1) // 2 #полуширина ленты\n",
    "    for j in range(l, -1, -1):\n",
    "        tape[j:, l - j] = np.random.rand(n - j)\n",
    "    for j in range(1, l + 1):\n",
    "        tape[:n - j, l + j] = np.random.rand(n - j)\n",
    "    return tape\n",
    "A=random_tape(5,5)\n",
    "print(A)"
   ]
  },
  {
   "cell_type": "code",
   "execution_count": 3,
   "metadata": {},
   "outputs": [],
   "source": [
    "def tape_matrix(tape):\n",
    "    '''\n",
    "    создаёт ленточную матрицу из ленты tape\n",
    "    крайние элементы столбцов ленты должны содержать нули согласно рисунку выше\n",
    "    '''\n",
    "    n, m = tape.shape\n",
    "    l = (m - 1) // 2\n",
    "    matrix = np.zeros((n, n))\n",
    "    \n",
    "    i = 0\n",
    "    for j in range(l, -1, -1):\n",
    "        matrix[i, :i + l + 1] = tape[i, j:]\n",
    "        i += 1\n",
    "    start = i\n",
    "    i = n - 1\n",
    "    for j in range(l, 0, -1):\n",
    "        matrix[i, i - l:] = tape[i, : -j]\n",
    "        i -= 1\n",
    "    stop = i\n",
    "    for i in range(start, stop + 1):\n",
    "        matrix[i, i - l : i + l + 1] = tape[i]\n",
    "    return matrix"
   ]
  },
  {
   "cell_type": "code",
   "execution_count": 4,
   "metadata": {},
   "outputs": [
    {
     "name": "stdout",
     "output_type": "stream",
     "text": [
      "[[0.68831554 0.46178128 0.30900665 0.         0.        ]\n",
      " [0.28469414 0.05586811 0.28444679 0.70867623 0.        ]\n",
      " [0.40915974 0.55580477 0.84156159 0.08123455 0.80015651]\n",
      " [0.         0.47057799 0.67758015 0.56173123 0.96863533]\n",
      " [0.         0.         0.5567152  0.0583857  0.92426124]]\n"
     ]
    }
   ],
   "source": [
    "print(tape_matrix(A))\n",
    "#A = tape_matrix(random_tape(5, 3))"
   ]
  },
  {
   "attachments": {},
   "cell_type": "markdown",
   "metadata": {},
   "source": [
    "<img src='one_way-2.png'></img>"
   ]
  },
  {
   "cell_type": "code",
   "execution_count": 5,
   "metadata": {},
   "outputs": [
    {
     "name": "stdout",
     "output_type": "stream",
     "text": [
      "[[0.69878714 0.57877144 1.12322175 0.48905637 0.32739183]\n",
      " [0.57877144 0.85249344 0.91823083 0.78245896 0.64648677]\n",
      " [1.12322175 0.91823083 2.35492626 0.94621933 0.92566747]\n",
      " [0.48905637 0.78245896 0.94621933 1.23900538 0.40927452]\n",
      " [0.32739183 0.64648677 0.92566747 0.40927452 1.23795755]]\n"
     ]
    }
   ],
   "source": [
    "A2 = A.T @ A\n",
    "print(A2)"
   ]
  },
  {
   "cell_type": "code",
   "execution_count": 6,
   "metadata": {},
   "outputs": [
    {
     "data": {
      "text/plain": [
       "True"
      ]
     },
     "execution_count": 6,
     "metadata": {},
     "output_type": "execute_result"
    }
   ],
   "source": [
    "#спектральное разложение w - собственные значения, v - собственные вектора\n",
    "w, v = np.linalg.eig(A2)\n",
    "n = A2.shape[0]\n",
    "#заполнения лямда собственными значениями\n",
    "L = np.zeros((n, n))\n",
    "for i in range(n):\n",
    "    L[i, i] = w[i]\n",
    "#проверка правильности разложения\n",
    "np.allclose(A2, v @ L @ np.linalg.inv(v))"
   ]
  },
  {
   "cell_type": "code",
   "execution_count": 7,
   "metadata": {},
   "outputs": [],
   "source": [
    "# находим сумму\n",
    "Sigma = np.sqrt(L)"
   ]
  },
  {
   "cell_type": "code",
   "execution_count": 8,
   "metadata": {},
   "outputs": [],
   "source": [
    "#находим матрицу u\n",
    "u = A @ v @ np.linalg.inv(Sigma)"
   ]
  },
  {
   "cell_type": "code",
   "execution_count": 9,
   "metadata": {},
   "outputs": [
    {
     "data": {
      "text/plain": [
       "True"
      ]
     },
     "execution_count": 9,
     "metadata": {},
     "output_type": "execute_result"
    }
   ],
   "source": [
    "#проверка правильности\n",
    "np.allclose(A, u @ Sigma @ np.linalg.inv(v))"
   ]
  },
  {
   "cell_type": "code",
   "execution_count": 10,
   "metadata": {},
   "outputs": [],
   "source": [
    "#нахождение u и суммы встроенным методом\n",
    "u_qr, Sigma_qr = np.linalg.qr(A @ v)"
   ]
  },
  {
   "cell_type": "code",
   "execution_count": 11,
   "metadata": {},
   "outputs": [
    {
     "data": {
      "text/plain": [
       "True"
      ]
     },
     "execution_count": 11,
     "metadata": {},
     "output_type": "execute_result"
    }
   ],
   "source": [
    "#проверка правильности\n",
    "np.allclose(A, u_qr @ Sigma_qr @ np.linalg.inv(v))"
   ]
  },
  {
   "cell_type": "code",
   "execution_count": 12,
   "metadata": {},
   "outputs": [
    {
     "data": {
      "text/plain": [
       "True"
      ]
     },
     "execution_count": 12,
     "metadata": {},
     "output_type": "execute_result"
    }
   ],
   "source": [
    "#проверка правильности\n",
    "np.allclose(A, u_qr @ Sigma_qr @ v.T)"
   ]
  },
  {
   "cell_type": "code",
   "execution_count": null,
   "metadata": {},
   "outputs": [],
   "source": []
  }
 ],
 "metadata": {
  "kernelspec": {
   "display_name": "Python 3",
   "language": "python",
   "name": "python3"
  },
  "language_info": {
   "codemirror_mode": {
    "name": "ipython",
    "version": 3
   },
   "file_extension": ".py",
   "mimetype": "text/x-python",
   "name": "python",
   "nbconvert_exporter": "python",
   "pygments_lexer": "ipython3",
   "version": "3.7.4"
  }
 },
 "nbformat": 4,
 "nbformat_minor": 2
}
